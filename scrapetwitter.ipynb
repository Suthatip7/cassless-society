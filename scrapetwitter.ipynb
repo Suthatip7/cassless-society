{
 "cells": [
  {
   "cell_type": "code",
   "execution_count": 72,
   "id": "8776767d",
   "metadata": {},
   "outputs": [
    {
     "name": "stdout",
     "output_type": "stream",
     "text": [
      "Collecting git+https://github.com/JustAnotherArchivist/snscrape.git\n",
      "  Cloning https://github.com/JustAnotherArchivist/snscrape.git to /private/var/folders/by/0rz3gnw148l6ch25mwf10xjc0000gn/T/pip-req-build-1ltt7exy\n",
      "  Running command git clone --filter=blob:none --quiet https://github.com/JustAnotherArchivist/snscrape.git /private/var/folders/by/0rz3gnw148l6ch25mwf10xjc0000gn/T/pip-req-build-1ltt7exy\n",
      "  Resolved https://github.com/JustAnotherArchivist/snscrape.git to commit 59abeaf04c38c85b3afed3fb6b907a6868019877\n",
      "  Preparing metadata (setup.py) ... \u001b[?25ldone\n",
      "\u001b[?25hRequirement already satisfied: requests[socks] in /Users/suthatipchaithap/opt/anaconda3/lib/python3.9/site-packages (from snscrape==0.4.3.20220107.dev64+g59abeaf) (2.27.1)\n",
      "Requirement already satisfied: lxml in /Users/suthatipchaithap/opt/anaconda3/lib/python3.9/site-packages (from snscrape==0.4.3.20220107.dev64+g59abeaf) (4.8.0)\n",
      "Requirement already satisfied: beautifulsoup4 in /Users/suthatipchaithap/opt/anaconda3/lib/python3.9/site-packages (from snscrape==0.4.3.20220107.dev64+g59abeaf) (4.11.1)\n",
      "Requirement already satisfied: filelock in /Users/suthatipchaithap/opt/anaconda3/lib/python3.9/site-packages (from snscrape==0.4.3.20220107.dev64+g59abeaf) (3.6.0)\n",
      "Requirement already satisfied: soupsieve>1.2 in /Users/suthatipchaithap/opt/anaconda3/lib/python3.9/site-packages (from beautifulsoup4->snscrape==0.4.3.20220107.dev64+g59abeaf) (2.3.1)\n",
      "Requirement already satisfied: idna<4,>=2.5 in /Users/suthatipchaithap/opt/anaconda3/lib/python3.9/site-packages (from requests[socks]->snscrape==0.4.3.20220107.dev64+g59abeaf) (3.3)\n",
      "Requirement already satisfied: urllib3<1.27,>=1.21.1 in /Users/suthatipchaithap/opt/anaconda3/lib/python3.9/site-packages (from requests[socks]->snscrape==0.4.3.20220107.dev64+g59abeaf) (1.26.9)\n",
      "Requirement already satisfied: charset-normalizer~=2.0.0 in /Users/suthatipchaithap/opt/anaconda3/lib/python3.9/site-packages (from requests[socks]->snscrape==0.4.3.20220107.dev64+g59abeaf) (2.0.4)\n",
      "Requirement already satisfied: certifi>=2017.4.17 in /Users/suthatipchaithap/opt/anaconda3/lib/python3.9/site-packages (from requests[socks]->snscrape==0.4.3.20220107.dev64+g59abeaf) (2021.10.8)\n",
      "Requirement already satisfied: PySocks!=1.5.7,>=1.5.6 in /Users/suthatipchaithap/opt/anaconda3/lib/python3.9/site-packages (from requests[socks]->snscrape==0.4.3.20220107.dev64+g59abeaf) (1.7.1)\n",
      "Note: you may need to restart the kernel to use updated packages.\n"
     ]
    }
   ],
   "source": [
    "pip install git+https://github.com/JustAnotherArchivist/snscrape.git"
   ]
  },
  {
   "cell_type": "code",
   "execution_count": 73,
   "id": "a7b33131",
   "metadata": {},
   "outputs": [],
   "source": [
    "import snscrape.modules.twitter as sntwitter\n",
    "import pandas as pd"
   ]
  },
  {
   "cell_type": "code",
   "execution_count": 126,
   "id": "2a256e80",
   "metadata": {
    "scrolled": true
   },
   "outputs": [
    {
     "name": "stderr",
     "output_type": "stream",
     "text": [
      "/var/folders/by/0rz3gnw148l6ch25mwf10xjc0000gn/T/ipykernel_30451/1704521100.py:7: FutureWarning: content is deprecated, use rawContent instead\n",
      "  tweets_list1.append([tweet.date, tweet.id, tweet.content, tweet.user.username, tweet.retweetCount, tweet.likeCount, tweet.mentionedUsers]) #declare the attributes to be returned\n"
     ]
    }
   ],
   "source": [
    "tweets_list1 = []\n",
    "\n",
    "# Using TwitterSearchScraper to scrape data and append tweets to list\n",
    "for i,tweet in enumerate(sntwitter.TwitterSearchScraper('#กรุงศรีล่ม since:2019-07-01 until:2022-09-29').get_items()): #declare a username \n",
    "    if i>10000000: #number of tweets you want to scrape\n",
    "        break\n",
    "    tweets_list1.append([tweet.date, tweet.id, tweet.content, tweet.user.username, tweet.retweetCount, tweet.likeCount, tweet.mentionedUsers]) #declare the attributes to be returned\n",
    "    \n",
    "# Creating a dataframe from the tweets list above \n",
    "tweets_df1 = pd.DataFrame(tweets_list1, columns=['Datetime', 'Tweet Id', 'Text', 'Username', 'Retweet', 'Like', 'Mention'])"
   ]
  },
  {
   "cell_type": "code",
   "execution_count": 127,
   "id": "0c9e275a",
   "metadata": {
    "scrolled": true
   },
   "outputs": [
    {
     "data": {
      "text/html": [
       "<div>\n",
       "<style scoped>\n",
       "    .dataframe tbody tr th:only-of-type {\n",
       "        vertical-align: middle;\n",
       "    }\n",
       "\n",
       "    .dataframe tbody tr th {\n",
       "        vertical-align: top;\n",
       "    }\n",
       "\n",
       "    .dataframe thead th {\n",
       "        text-align: right;\n",
       "    }\n",
       "</style>\n",
       "<table border=\"1\" class=\"dataframe\">\n",
       "  <thead>\n",
       "    <tr style=\"text-align: right;\">\n",
       "      <th></th>\n",
       "      <th>Datetime</th>\n",
       "      <th>Tweet Id</th>\n",
       "      <th>Text</th>\n",
       "      <th>Username</th>\n",
       "      <th>Retweet</th>\n",
       "      <th>Like</th>\n",
       "      <th>Mention</th>\n",
       "    </tr>\n",
       "  </thead>\n",
       "  <tbody>\n",
       "    <tr>\n",
       "      <th>1344</th>\n",
       "      <td>2020-11-30 11:32:52+00:00</td>\n",
       "      <td>1333373426845708289</td>\n",
       "      <td>#scbล่ม #กรุงศรีล่ม #kbankล้ม #ออมสินล่ม โอ้โห...</td>\n",
       "      <td>moomhakakai</td>\n",
       "      <td>386</td>\n",
       "      <td>140</td>\n",
       "      <td>None</td>\n",
       "    </tr>\n",
       "    <tr>\n",
       "      <th>256</th>\n",
       "      <td>2022-01-10 05:25:03+00:00</td>\n",
       "      <td>1480410337367134210</td>\n",
       "      <td>มี 4 ธนาคาร ล่มหมดจ่ะ โมโห สังคมไร้เงินสดไม่มี...</td>\n",
       "      <td>phoomjiina</td>\n",
       "      <td>637</td>\n",
       "      <td>115</td>\n",
       "      <td>None</td>\n",
       "    </tr>\n",
       "    <tr>\n",
       "      <th>1133</th>\n",
       "      <td>2021-06-05 12:35:01+00:00</td>\n",
       "      <td>1401155599455322114</td>\n",
       "      <td>เห็นแท็คนี้ แวบแรกคือภาพประวัติศาสตร์มาเลยอะ 5...</td>\n",
       "      <td>lomchoybiscuit</td>\n",
       "      <td>25</td>\n",
       "      <td>72</td>\n",
       "      <td>None</td>\n",
       "    </tr>\n",
       "    <tr>\n",
       "      <th>1328</th>\n",
       "      <td>2020-11-30 12:39:29+00:00</td>\n",
       "      <td>1333390189956251650</td>\n",
       "      <td>ถ้าแอดมินวิเคราะห์ คิดว่าต้องมีอะไรสักอย่างที่...</td>\n",
       "      <td>InfinitaSub</td>\n",
       "      <td>97</td>\n",
       "      <td>60</td>\n",
       "      <td>None</td>\n",
       "    </tr>\n",
       "    <tr>\n",
       "      <th>1007</th>\n",
       "      <td>2021-07-01 04:52:37+00:00</td>\n",
       "      <td>1410461316247023617</td>\n",
       "      <td>#กรุงศรี #กรุงศรีล่ม ล่มบ่อย ล่มเก่ง นะ กรุงศร...</td>\n",
       "      <td>Noopom28</td>\n",
       "      <td>152</td>\n",
       "      <td>51</td>\n",
       "      <td>[https://twitter.com/KrungsriSimple]</td>\n",
       "    </tr>\n",
       "    <tr>\n",
       "      <th>...</th>\n",
       "      <td>...</td>\n",
       "      <td>...</td>\n",
       "      <td>...</td>\n",
       "      <td>...</td>\n",
       "      <td>...</td>\n",
       "      <td>...</td>\n",
       "      <td>...</td>\n",
       "    </tr>\n",
       "    <tr>\n",
       "      <th>543</th>\n",
       "      <td>2021-07-01 13:10:41+00:00</td>\n",
       "      <td>1410586657691103239</td>\n",
       "      <td>ก็ว่าทำไมมันเข้าไม่ได้  #กรุงศรีล่ม</td>\n",
       "      <td>xxikmsxx</td>\n",
       "      <td>0</td>\n",
       "      <td>0</td>\n",
       "      <td>None</td>\n",
       "    </tr>\n",
       "    <tr>\n",
       "      <th>542</th>\n",
       "      <td>2021-07-01 13:11:15+00:00</td>\n",
       "      <td>1410586800163147777</td>\n",
       "      <td>จะล่มยันวันพรุ่งนี้เลบชะอห. #กรุงศรีล่ม</td>\n",
       "      <td>Baekhyunnaaaa</td>\n",
       "      <td>0</td>\n",
       "      <td>0</td>\n",
       "      <td>None</td>\n",
       "    </tr>\n",
       "    <tr>\n",
       "      <th>541</th>\n",
       "      <td>2021-07-01 13:11:51+00:00</td>\n",
       "      <td>1410586952693288967</td>\n",
       "      <td>ต้องใช้แต้มบุญใช่มั้ย เมื่อกี้โอนเงินได้ ตอนนี...</td>\n",
       "      <td>Milklaku</td>\n",
       "      <td>0</td>\n",
       "      <td>0</td>\n",
       "      <td>None</td>\n",
       "    </tr>\n",
       "    <tr>\n",
       "      <th>540</th>\n",
       "      <td>2021-07-01 13:12:19+00:00</td>\n",
       "      <td>1410587070767124480</td>\n",
       "      <td>แนะนำให้ใช้ เว็บของธ.ไปก่อนนะคะ อย่าลืมติ๊กต้อ...</td>\n",
       "      <td>do0_nct010296</td>\n",
       "      <td>0</td>\n",
       "      <td>0</td>\n",
       "      <td>None</td>\n",
       "    </tr>\n",
       "    <tr>\n",
       "      <th>692</th>\n",
       "      <td>2021-07-01 11:15:53+00:00</td>\n",
       "      <td>1410557769044742147</td>\n",
       "      <td>ล่มบ่อยเหมือนอนาคตประเทศเลยเนอะ #กรุงศรีล่ม</td>\n",
       "      <td>g_xxe</td>\n",
       "      <td>0</td>\n",
       "      <td>0</td>\n",
       "      <td>None</td>\n",
       "    </tr>\n",
       "  </tbody>\n",
       "</table>\n",
       "<p>1384 rows × 7 columns</p>\n",
       "</div>"
      ],
      "text/plain": [
       "                      Datetime             Tweet Id  \\\n",
       "1344 2020-11-30 11:32:52+00:00  1333373426845708289   \n",
       "256  2022-01-10 05:25:03+00:00  1480410337367134210   \n",
       "1133 2021-06-05 12:35:01+00:00  1401155599455322114   \n",
       "1328 2020-11-30 12:39:29+00:00  1333390189956251650   \n",
       "1007 2021-07-01 04:52:37+00:00  1410461316247023617   \n",
       "...                        ...                  ...   \n",
       "543  2021-07-01 13:10:41+00:00  1410586657691103239   \n",
       "542  2021-07-01 13:11:15+00:00  1410586800163147777   \n",
       "541  2021-07-01 13:11:51+00:00  1410586952693288967   \n",
       "540  2021-07-01 13:12:19+00:00  1410587070767124480   \n",
       "692  2021-07-01 11:15:53+00:00  1410557769044742147   \n",
       "\n",
       "                                                   Text        Username  \\\n",
       "1344  #scbล่ม #กรุงศรีล่ม #kbankล้ม #ออมสินล่ม โอ้โห...     moomhakakai   \n",
       "256   มี 4 ธนาคาร ล่มหมดจ่ะ โมโห สังคมไร้เงินสดไม่มี...      phoomjiina   \n",
       "1133  เห็นแท็คนี้ แวบแรกคือภาพประวัติศาสตร์มาเลยอะ 5...  lomchoybiscuit   \n",
       "1328  ถ้าแอดมินวิเคราะห์ คิดว่าต้องมีอะไรสักอย่างที่...     InfinitaSub   \n",
       "1007  #กรุงศรี #กรุงศรีล่ม ล่มบ่อย ล่มเก่ง นะ กรุงศร...        Noopom28   \n",
       "...                                                 ...             ...   \n",
       "543                 ก็ว่าทำไมมันเข้าไม่ได้  #กรุงศรีล่ม        xxikmsxx   \n",
       "542             จะล่มยันวันพรุ่งนี้เลบชะอห. #กรุงศรีล่ม   Baekhyunnaaaa   \n",
       "541   ต้องใช้แต้มบุญใช่มั้ย เมื่อกี้โอนเงินได้ ตอนนี...        Milklaku   \n",
       "540   แนะนำให้ใช้ เว็บของธ.ไปก่อนนะคะ อย่าลืมติ๊กต้อ...   do0_nct010296   \n",
       "692         ล่มบ่อยเหมือนอนาคตประเทศเลยเนอะ #กรุงศรีล่ม           g_xxe   \n",
       "\n",
       "      Retweet  Like                               Mention  \n",
       "1344      386   140                                  None  \n",
       "256       637   115                                  None  \n",
       "1133       25    72                                  None  \n",
       "1328       97    60                                  None  \n",
       "1007      152    51  [https://twitter.com/KrungsriSimple]  \n",
       "...       ...   ...                                   ...  \n",
       "543         0     0                                  None  \n",
       "542         0     0                                  None  \n",
       "541         0     0                                  None  \n",
       "540         0     0                                  None  \n",
       "692         0     0                                  None  \n",
       "\n",
       "[1384 rows x 7 columns]"
      ]
     },
     "execution_count": 127,
     "metadata": {},
     "output_type": "execute_result"
    }
   ],
   "source": [
    "tweets_df1.sort_values(by='Like', ascending=False)"
   ]
  },
  {
   "cell_type": "code",
   "execution_count": 128,
   "id": "0e8c0a8e",
   "metadata": {},
   "outputs": [
    {
     "data": {
      "text/plain": [
       "1384"
      ]
     },
     "execution_count": 128,
     "metadata": {},
     "output_type": "execute_result"
    }
   ],
   "source": [
    "len(tweets_df1.sort_values(by='Like', ascending=False))"
   ]
  },
  {
   "cell_type": "code",
   "execution_count": 129,
   "id": "7ef627e8",
   "metadata": {},
   "outputs": [],
   "source": [
    "tweets_df1['Datetime'] = tweets_df1['Datetime'].dt.tz_localize(None)"
   ]
  },
  {
   "cell_type": "code",
   "execution_count": 130,
   "id": "53fcc2ad",
   "metadata": {},
   "outputs": [],
   "source": [
    "tweets_df1.to_excel('กรุงศรีล่ม.xlsx')"
   ]
  },
  {
   "cell_type": "code",
   "execution_count": null,
   "id": "62e753d7",
   "metadata": {},
   "outputs": [],
   "source": []
  }
 ],
 "metadata": {
  "kernelspec": {
   "display_name": "Python 3 (ipykernel)",
   "language": "python",
   "name": "python3"
  },
  "language_info": {
   "codemirror_mode": {
    "name": "ipython",
    "version": 3
   },
   "file_extension": ".py",
   "mimetype": "text/x-python",
   "name": "python",
   "nbconvert_exporter": "python",
   "pygments_lexer": "ipython3",
   "version": "3.9.12"
  }
 },
 "nbformat": 4,
 "nbformat_minor": 5
}
